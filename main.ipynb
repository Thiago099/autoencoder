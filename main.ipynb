{
 "cells": [
  {
   "cell_type": "code",
   "execution_count": 51,
   "metadata": {},
   "outputs": [],
   "source": [
    "import tensorflow as tf  \n",
    "from tensorflow import keras\n",
    "import cv2\n",
    "import numpy as np\n",
    "import matplotlib.pyplot as plt"
   ]
  },
  {
   "cell_type": "code",
   "execution_count": 55,
   "metadata": {},
   "outputs": [
    {
     "name": "stderr",
     "output_type": "stream",
     "text": [
      "C:\\Users\\THIAGO\\AppData\\Local\\Packages\\PythonSoftwareFoundation.Python.3.9_qbz5n2kfra8p0\\LocalCache\\local-packages\\Python39\\site-packages\\keras\\optimizer_v2\\adam.py:105: UserWarning: The `lr` argument is deprecated, use `learning_rate` instead.\n",
      "  super(Adam, self).__init__(name, **kwargs)\n"
     ]
    },
    {
     "name": "stdout",
     "output_type": "stream",
     "text": [
      "Model: \"autoencoder\"\n",
      "_________________________________________________________________\n",
      " Layer (type)                Output Shape              Param #   \n",
      "=================================================================\n",
      " img (InputLayer)            [(None, 28, 28, 1)]       0         \n",
      "                                                                 \n",
      " flatten_15 (Flatten)        (None, 784)               0         \n",
      "                                                                 \n",
      " dense_36 (Dense)            (None, 8)                 6280      \n",
      "                                                                 \n",
      " dense_37 (Dense)            (None, 8)                 72        \n",
      "                                                                 \n",
      " dense_38 (Dense)            (None, 784)               7056      \n",
      "                                                                 \n",
      " reshape_13 (Reshape)        (None, 28, 28, 1)         0         \n",
      "                                                                 \n",
      "=================================================================\n",
      "Total params: 13,408\n",
      "Trainable params: 13,408\n",
      "Non-trainable params: 0\n",
      "_________________________________________________________________\n",
      "Epoch 1/3\n",
      "1688/1688 [==============================] - 7s 4ms/step - loss: 0.0519 - val_loss: 0.0461\n",
      "Epoch 2/3\n",
      "1688/1688 [==============================] - 7s 4ms/step - loss: 0.0463 - val_loss: 0.0460\n",
      "Epoch 3/3\n",
      "1688/1688 [==============================] - 7s 4ms/step - loss: 0.0461 - val_loss: 0.0458\n"
     ]
    },
    {
     "data": {
      "text/plain": [
       "<keras.callbacks.History at 0x1c676e16700>"
      ]
     },
     "execution_count": 55,
     "metadata": {},
     "output_type": "execute_result"
    }
   ],
   "source": [
    "\n",
    "(x_train, y_train),(x_test, y_test) = tf.keras.datasets.mnist.load_data()  # loads the popular \"mnist\" training dataset\n",
    "\n",
    "x_train = x_train/255.0  # scales the data. pixel values range from 0 to 255, so this makes it range 0 to 1\n",
    "x_test = x_test/255.0  # scales the data. pixel values range from 0 to 255, so this makes it range 0 to 1\n",
    "\n",
    "\n",
    "encoder_input = keras.Input(shape=(28, 28, 1), name='img')\n",
    "x = keras.layers.Flatten()(encoder_input)\n",
    "encoder_output = keras.layers.Dense(8, activation=\"relu\")(x)\n",
    "\n",
    "encoder = keras.Model(encoder_input, encoder_output, name='encoder')\n",
    "\n",
    "decoder_input = keras.layers.Dense(8, activation=\"relu\")(encoder_output)\n",
    "x = keras.layers.Dense(784, activation=\"relu\")(decoder_input)\n",
    "decoder_output = keras.layers.Reshape((28, 28, 1))(x)\n",
    "\n",
    "opt = tf.keras.optimizers.Adam(lr=0.001, decay=1e-6)\n",
    "\n",
    "autoencoder = keras.Model(encoder_input, decoder_output, name='autoencoder')\n",
    "autoencoder.summary()\n",
    "\n",
    "autoencoder.compile(opt, loss='mse')\n",
    "\n",
    "\n",
    "autoencoder.fit(\n",
    "    x_train,\n",
    "    x_train,\n",
    "    epochs=3, \n",
    "    batch_size=32, validation_split=0.10\n",
    ")   "
   ]
  },
  {
   "cell_type": "code",
   "execution_count": 54,
   "metadata": {},
   "outputs": [
    {
     "data": {
      "text/plain": [
       "<matplotlib.image.AxesImage at 0x1c676dc31f0>"
      ]
     },
     "execution_count": 54,
     "metadata": {},
     "output_type": "execute_result"
    },
    {
     "data": {
      "image/png": "[encoded data removed]",
      "text/plain": [
       "<Figure size 432x288 with 1 Axes>"
      ]
     },
     "metadata": {
      "needs_background": "light"
     },
     "output_type": "display_data"
    }
   ],
   "source": [
    "example = encoder.predict(x_test[0].reshape(-1,28,28,1))[0]\n",
    "plt.imshow(example.reshape(8,8), cmap='gray')"
   ]
  },
  {
   "cell_type": "code",
   "execution_count": 53,
   "metadata": {},
   "outputs": [
    {
     "data": {
      "text/plain": [
       "<matplotlib.image.AxesImage at 0x1c676d58670>"
      ]
     },
     "execution_count": 53,
     "metadata": {},
     "output_type": "execute_result"
    },
    {
     "data": {
      "image/png": "[encoded data removed]",
      "text/plain": [
       "<Figure size 432x288 with 1 Axes>"
      ]
     },
     "metadata": {
      "needs_background": "light"
     },
     "output_type": "display_data"
    }
   ],
   "source": [
    "example = autoencoder.predict(x_test[0].reshape(-1,28,28,1))[0]\n",
    "plt.imshow(example, cmap='gray')"
   ]
  }
 ],
 "metadata": {
  "language_info": {
   "name": "python"
  },
  "orig_nbformat": 4
 },
 "nbformat": 4,
 "nbformat_minor": 2
}
