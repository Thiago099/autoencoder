{
 "cells": [
  {
   "cell_type": "code",
   "execution_count": 3,
   "metadata": {},
   "outputs": [],
   "source": [
    "import tensorflow as tf  \n",
    "from tensorflow import keras\n",
    "import cv2\n",
    "import numpy as np\n",
    "import matplotlib.pyplot as plt"
   ]
  },
  {
   "cell_type": "code",
   "execution_count": 4,
   "metadata": {},
   "outputs": [
    {
     "name": "stderr",
     "output_type": "stream",
     "text": [
      "C:\\Users\\THIAGO\\AppData\\Local\\Packages\\PythonSoftwareFoundation.Python.3.9_qbz5n2kfra8p0\\LocalCache\\local-packages\\Python39\\site-packages\\keras\\optimizer_v2\\adam.py:105: UserWarning: The `lr` argument is deprecated, use `learning_rate` instead.\n",
      "  super(Adam, self).__init__(name, **kwargs)\n"
     ]
    },
    {
     "name": "stdout",
     "output_type": "stream",
     "text": [
      "Model: \"autoencoder\"\n",
      "_________________________________________________________________\n",
      " Layer (type)                Output Shape              Param #   \n",
      "=================================================================\n",
      " img (InputLayer)            [(None, 28, 28, 1)]       0         \n",
      "                                                                 \n",
      " flatten (Flatten)           (None, 784)               0         \n",
      "                                                                 \n",
      " dense (Dense)               (None, 8)                 6280      \n",
      "                                                                 \n",
      " dense_1 (Dense)             (None, 8)                 72        \n",
      "                                                                 \n",
      " dense_2 (Dense)             (None, 784)               7056      \n",
      "                                                                 \n",
      " reshape (Reshape)           (None, 28, 28, 1)         0         \n",
      "                                                                 \n",
      "=================================================================\n",
      "Total params: 13,408\n",
      "Trainable params: 13,408\n",
      "Non-trainable params: 0\n",
      "_________________________________________________________________\n",
      "Epoch 1/3\n",
      "1688/1688 [==============================] - 7s 3ms/step - loss: 0.0524 - val_loss: 0.0450\n",
      "Epoch 2/3\n",
      "1688/1688 [==============================] - 6s 3ms/step - loss: 0.0442 - val_loss: 0.0434\n",
      "Epoch 3/3\n",
      "1688/1688 [==============================] - 6s 3ms/step - loss: 0.0436 - val_loss: 0.0433\n",
      "WARNING:tensorflow:Compiled the loaded model, but the compiled metrics have yet to be built. `model.compile_metrics` will be empty until you train or evaluate the model.\n",
      "INFO:tensorflow:Assets written to: encoder.model\\assets\n",
      "INFO:tensorflow:Assets written to: autoencoder.model\\assets\n"
     ]
    }
   ],
   "source": [
    "\n",
    "(x_train, y_train),(x_test, y_test) = tf.keras.datasets.mnist.load_data()  # loads the popular \"mnist\" training dataset\n",
    "\n",
    "x_train = x_train/255.0  # scales the data. pixel values range from 0 to 255, so this makes it range 0 to 1\n",
    "x_test = x_test/255.0  # scales the data. pixel values range from 0 to 255, so this makes it range 0 to 1\n",
    "\n",
    "\n",
    "encoder_input = keras.Input(shape=(28, 28, 1), name='img')\n",
    "x = keras.layers.Flatten()(encoder_input)\n",
    "encoder_output = keras.layers.Dense(8, activation=\"relu\")(x)\n",
    "\n",
    "encoder = keras.Model(encoder_input, encoder_output, name='encoder')\n",
    "\n",
    "decoder_input = keras.layers.Dense(8, activation=\"relu\")(encoder_output)\n",
    "x = keras.layers.Dense(784, activation=\"relu\")(decoder_input)\n",
    "decoder_output = keras.layers.Reshape((28, 28, 1))(x)\n",
    "\n",
    "opt = tf.keras.optimizers.Adam(lr=0.001, decay=1e-6)\n",
    "\n",
    "autoencoder = keras.Model(encoder_input, decoder_output, name='autoencoder')\n",
    "autoencoder.summary()\n",
    "\n",
    "autoencoder.compile(opt, loss='mse')\n",
    "\n",
    "\n",
    "autoencoder.fit(\n",
    "    x_train,\n",
    "    x_train,\n",
    "    epochs=3, \n",
    "    batch_size=32,\n",
    "    validation_split=0.10\n",
    ")   \n",
    "encoder.save('encoder.model')\n",
    "autoencoder.save('autoencoder.model')"
   ]
  },
  {
   "cell_type": "code",
   "execution_count": 5,
   "metadata": {},
   "outputs": [
    {
     "name": "stdout",
     "output_type": "stream",
     "text": [
      "WARNING:tensorflow:No training configuration found in save file, so the model was *not* compiled. Compile it manually.\n"
     ]
    }
   ],
   "source": [
    "encoder = keras.models.load_model('encoder.model')\n",
    "autoencoder = keras.models.load_model('autoencoder.model')"
   ]
  },
  {
   "cell_type": "code",
   "execution_count": 6,
   "metadata": {},
   "outputs": [
    {
     "data": {
      "text/plain": [
       "<matplotlib.image.AxesImage at 0x167e575f220>"
      ]
     },
     "execution_count": 6,
     "metadata": {},
     "output_type": "execute_result"
    },
    {
     "data": {
      "image/png": "[encoded data removed]",
      "text/plain": [
       "<Figure size 432x288 with 1 Axes>"
      ]
     },
     "metadata": {
      "needs_background": "light"
     },
     "output_type": "display_data"
    }
   ],
   "source": [
    "example = encoder.predict(x_test[0].reshape(-1,28,28,1))[0]\n",
    "plt.imshow(example.reshape(4,2), cmap='gray')"
   ]
  },
  {
   "cell_type": "code",
   "execution_count": 7,
   "metadata": {},
   "outputs": [
    {
     "data": {
      "text/plain": [
       "<matplotlib.image.AxesImage at 0x167e5635ee0>"
      ]
     },
     "execution_count": 7,
     "metadata": {},
     "output_type": "execute_result"
    },
    {
     "data": {
      "image/png": "[encoded data removed]",
      "text/plain": [
       "<Figure size 432x288 with 1 Axes>"
      ]
     },
     "metadata": {
      "needs_background": "light"
     },
     "output_type": "display_data"
    }
   ],
   "source": [
    "example = autoencoder.predict(x_test[:10].reshape(-1,28,28,1))[0]\n",
    "plt.imshow(example, cmap='gray')"
   ]
  }
 ],
 "metadata": {
  "interpreter": {
   "hash": "f0d9a7cd1f0e24e1e06e6e11ca7ef582e03455e211f245ad365318db042b07ed"
  },
  "kernelspec": {
   "display_name": "Python 3.9.9 64-bit (windows store)",
   "language": "python",
   "name": "python3"
  },
  "language_info": {
   "codemirror_mode": {
    "name": "ipython",
    "version": 3
   },
   "file_extension": ".py",
   "mimetype": "text/x-python",
   "name": "python",
   "nbconvert_exporter": "python",
   "pygments_lexer": "ipython3",
   "version": "3.9.9"
  },
  "orig_nbformat": 4
 },
 "nbformat": 4,
 "nbformat_minor": 2
}
